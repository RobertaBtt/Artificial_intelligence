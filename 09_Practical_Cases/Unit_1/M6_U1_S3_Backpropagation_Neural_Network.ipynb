{
  "nbformat": 4,
  "nbformat_minor": 0,
  "metadata": {
    "colab": {
      "provenance": []
    },
    "kernelspec": {
      "name": "python3",
      "display_name": "Python 3"
    },
    "language_info": {
      "name": "python"
    }
  },
  "cells": [
    {
      "cell_type": "markdown",
      "source": [
        "# Practical example: Backpropagation"
      ],
      "metadata": {
        "id": "BmFKo_F2L58L"
      }
    },
    {
      "cell_type": "markdown",
      "source": [
        "Regression and classification problems are carried out with artificial neural networks (ANN), which\n",
        "are systems that receive a matrix of input data (such as the supervised learning algorithms\n",
        "already seen) and generate an output vector that attempts to resemble the actual output vector\n",
        "available in supervised learning."
      ],
      "metadata": {
        "id": "BZoe0_29nwWn"
      }
    },
    {
      "cell_type": "markdown",
      "source": [
        "In this example, we are going to develop a neural network without using third-party libraries to\n",
        "understand the process of a neural network and implement it from scratch without the help of\n",
        "predefined functions."
      ],
      "metadata": {
        "id": "KkKruKeHBz0_"
      }
    },
    {
      "cell_type": "code",
      "source": [
        "import numpy as np\n",
        "import matplotlib.pyplot as plt"
      ],
      "metadata": {
        "id": "Yiuyw40lB5sf"
      },
      "execution_count": 1,
      "outputs": []
    },
    {
      "cell_type": "markdown",
      "source": [
        "Define the activation functions that can be used, which in this case are “sigmoid” and “tanh”.\n",
        "\n"
      ],
      "metadata": {
        "id": "xcWHRTdUB5J3"
      }
    },
    {
      "cell_type": "code",
      "source": [
        "#Activation Functions\n",
        "\n",
        "def sigmoid(x):\n",
        "    return 1.0/(1.0 + np.exp(-x))\n",
        "\n",
        "def sigmoid_derivative(x):\n",
        "    return sigmoid(x) * (1.0-sigmoid(x))\n",
        "\n",
        "def tanh(x):\n",
        "    return np.tanh(x)\n",
        "\n",
        "def tanh_derivative(x):\n",
        "    return 1.0 - x**2"
      ],
      "metadata": {
        "id": "4AUkVRTsCAfm"
      },
      "execution_count": 2,
      "outputs": []
    },
    {
      "cell_type": "markdown",
      "source": [
        "Define the neural network class, where the fundamental methods of a neural network are defined,\n",
        "which are:\n",
        "- Its initialization."
      ],
      "metadata": {
        "id": "fmwkvDU1m_--"
      }
    },
    {
      "cell_type": "code",
      "source": [
        "# Define NN Class\n",
        "\n",
        "class NN:\n",
        "\n",
        "    #initialize network parameters\n",
        "    #1. Activation Functions\n",
        "    #2. Initialize weights and errors\n",
        "    #3. Initialize with random values\n",
        "\n",
        "    def __init__(self, layers, activation='tanh'):\n",
        "        if activation =='sigmoid':\n",
        "            self.activation = sigmoid\n",
        "            self.activation_prime = sigmoid_derivative\n",
        "        elif activation == 'tanh':\n",
        "            self.activation = tanh\n",
        "            self.activation_prime = tanh_derivative\n",
        "\n",
        "        #initialize weights\n",
        "        self.weights = []\n",
        "        self.deltas = []\n",
        "\n",
        "        #layer definition\n",
        "        #layers = [2,3,2]\n",
        "        #range of weights varies between (-1,1)\n",
        "\n",
        "        #assign random values to input layer and hidden layer\n",
        "        for i in range(1, len(layers) - 1):\n",
        "            r = 2*np.random.random((layers[i-1]+1, layers[i] + 1)) -1\n",
        "            self.weights.append(r)\n",
        "        #assign random values to output layer\n",
        "        r = 2*np.random.random( (layers[i] +1, layers[i+1])) - 1\n",
        "        self.weights.append(r)\n",
        "\n",
        "    ##====TRAINING METHOD\n",
        "    def fit(self, X, y, learning_rate = 0.2, epochs = 100000):\n",
        "            #add column of ones to inputs\n",
        "            #with this, add Bias unit to input layer\n",
        "\n",
        "            ones = np.atleast_2d(np.ones(X.shape[0]))\n",
        "            X = np.concatenate((ones.T, X), axis=1)\n",
        "\n",
        "            for k in range(epochs):\n",
        "                i = np.random.randint(X.shape[0])\n",
        "                a = [X[i]]\n",
        "\n",
        "                for l in range(len(self.weights)):\n",
        "                    dot_value = np.dot(a[l], self.weights[l])\n",
        "                    activation = self.activation(dot_value)\n",
        "                    a.append(activation)\n",
        "                #calculate the difference in output layer and value obtained\n",
        "                error = y[i] - a[-1]\n",
        "                deltas = [error*self.activation_prime(a[-1])]\n",
        "\n",
        "                #start from second layer to last one\n",
        "                #one layer before the output layer\n",
        "                for l in range (len(a) - 2, 0, -1):\n",
        "                    deltas.append(deltas[-1].dot(self.weights[l].T)*self.activation_prime(a[l]))\n",
        "                self.deltas.append(deltas)\n",
        "\n",
        "                #invert\n",
        "                # [level3(output)-> level2(hidden)] => [level2(hidden)->level3(output)]\n",
        "                deltas.reverse()\n",
        "\n",
        "                #backpropagation\n",
        "                #1. multiply the output delta with the input activations to get the weight gradient\n",
        "                #2. update the weight by subtracting a percentage of the gradient\n",
        "                for i in range(len(self.weights)):\n",
        "                    layer = np.atleast_2d(a[i])\n",
        "                    delta = np.atleast_2d(deltas[i])\n",
        "                    self.weights[i] += learning_rate * layer.T.dot(delta)\n",
        "\n",
        "                if k % 10000 == 0: print('epochs:', k)\n",
        "\n",
        "    #====PREDICTION METHOD\n",
        "    def predict(self, x):\n",
        "        ones = np.atleast_2d(np.ones(x.shape[0]))\n",
        "        a = np.concatenate((np.ones(1).T, np.array(x)), axis=0)\n",
        "        for l in range(0, len(self.weights)):\n",
        "            a = self.activation(np.dot(a, self.weights[l]))\n",
        "        return a\n",
        "# We have also defined two functions that can print the weights and errors of our network.\n",
        "    def print_weights(self):\n",
        "      print(\"LIST OF CONNECTION WEIGHTS\")\n",
        "      for i in range(len(self.weights)):\n",
        "          print(self.weights[i])\n",
        "\n",
        "    def get_deltas(self):\n",
        "        return self.deltas"
      ],
      "metadata": {
        "id": "ZXC0_1L2nHZB"
      },
      "execution_count": 10,
      "outputs": []
    },
    {
      "cell_type": "markdown",
      "source": [
        "Once the neural network is defined, we are going to apply it in a very simple way. First, we must\n",
        "define the structure of the neural network, which in this case means we are going to have an input\n",
        "layer made up of two neurons, a hidden layer made up of three neurons and an output layer made\n",
        "up of two neurons, with an activation signal “tanh”."
      ],
      "metadata": {
        "id": "iK7jacfFnnNP"
      }
    },
    {
      "cell_type": "code",
      "source": [
        "# Create a NN using the class we defined before\n",
        "#================================= input layer 2 neurons, hidden layer 3 neurons, output layer 2 neurons, tanh activation\n",
        "\n",
        "nn = NN([2,3,2],activation='tanh')"
      ],
      "metadata": {
        "id": "AXZm1ifTnqbl"
      },
      "execution_count": 11,
      "outputs": []
    },
    {
      "cell_type": "markdown",
      "source": [
        "To understand the example and make it more real, consider that the input data are values that\n",
        "indicate the environment in which a robot is following a path, which may encounter obstacles on\n",
        "both sides or deviate to both sides and therefore, depending on these inputs, it must make output\n",
        "decisions."
      ],
      "metadata": {
        "id": "bRCp5ft9n4Gv"
      }
    },
    {
      "cell_type": "code",
      "source": [
        "#input data for training\n",
        "X = np.array([[0, 0],   #unobstructed\n",
        "              [0, 1],   #unobstructed\n",
        "              [0, -1],  #unobstructed\n",
        "              [0.5,1],  #obstacle detected on right\n",
        "              [0.5,-1], #obstacle on left\n",
        "              [1,1],    #too close to right\n",
        "              [1,-1]])  #too close to the left\n",
        "\n",
        "# Output data to train nn\n",
        "y = np.array([[0,1],    #go forward\n",
        "              [0,1],    #go forward\n",
        "              [0,1],    #go forward\n",
        "              [-1,1],   #turn left\n",
        "              [1,1],    #turn right\n",
        "              [0,-1],   #go backward\n",
        "              [0,-1]])  #go backward"
      ],
      "metadata": {
        "id": "pC1DyMB5n-K_"
      },
      "execution_count": 12,
      "outputs": []
    },
    {
      "cell_type": "markdown",
      "source": [
        "Once the input and output values that will be used for the training of the neural network have been\n",
        "defined, proceed to said training, which will define, by means of trial and error and based on our\n",
        "knowledge, the most suitable number of iterations and “learning rate”."
      ],
      "metadata": {
        "id": "hNoXMBpaoEOv"
      }
    },
    {
      "cell_type": "code",
      "source": [
        "\n",
        "# TRAIN THE NEURAL NETWORK\n",
        "nn.fit(X, y, learning_rate=0.03, epochs=15001)"
      ],
      "metadata": {
        "colab": {
          "base_uri": "https://localhost:8080/"
        },
        "id": "EXGzI15boGpV",
        "outputId": "a904b66f-a3a6-4749-ce47-16461c2b5d9e"
      },
      "execution_count": 13,
      "outputs": [
        {
          "output_type": "stream",
          "name": "stdout",
          "text": [
            "epochs: 0\n",
            "epochs: 10000\n"
          ]
        }
      ]
    },
    {
      "cell_type": "markdown",
      "source": [
        "Lastly, show the predictions obtained for input values and how the error decreases with the\n",
        "number of iterations."
      ],
      "metadata": {
        "id": "sKpxL3RGonps"
      }
    },
    {
      "cell_type": "code",
      "source": [
        "#show predictions obtained for input values and how error decreases w number of iterations\n",
        "index = 0\n",
        "for e in X:\n",
        "    print(\"X:\",e,\"y:\",y[index],\"Network:\",nn.predict(e))\n",
        "    index = index+1"
      ],
      "metadata": {
        "colab": {
          "base_uri": "https://localhost:8080/"
        },
        "id": "OCkB6OxmoqKk",
        "outputId": "9fb41b88-d75f-418e-8ab2-48aacddead6d"
      },
      "execution_count": 14,
      "outputs": [
        {
          "output_type": "stream",
          "name": "stdout",
          "text": [
            "X: [0. 0.] y: [0 1] Network: [-0.00222115  0.99998631]\n",
            "X: [0. 1.] y: [0 1] Network: [-0.00119324  0.99987334]\n",
            "X: [ 0. -1.] y: [0 1] Network: [0.00588985 0.99998406]\n",
            "X: [0.5 1. ] y: [-1  1] Network: [-0.96205556  0.96203076]\n",
            "X: [ 0.5 -1. ] y: [1 1] Network: [0.93524392 0.95236113]\n",
            "X: [1. 1.] y: [ 0 -1] Network: [-0.00228996 -0.97829603]\n",
            "X: [ 1. -1.] y: [ 0 -1] Network: [ 0.00218581 -0.96566079]\n"
          ]
        }
      ]
    },
    {
      "cell_type": "code",
      "source": [
        "# Here we can see how the cost of the function is reduced and tends to zero:\n",
        "\n",
        "deltas = nn.get_deltas()\n",
        "values = []\n",
        "index = 0\n",
        "for fix in deltas:\n",
        "    values.append(fix[1][0] + fix[1][1])\n",
        "    index=index+1\n",
        "\n",
        "plt.plot(range(len(values)),values, color='b')\n",
        "plt.ylim([0,1])\n",
        "plt.ylabel('Cost')\n",
        "plt.xlabel('Epochs')\n",
        "plt.tight_layout()\n",
        "plt.show()\n",
        "\n",
        "\n",
        "\n",
        "\n",
        "\n",
        "\n",
        "\n",
        "\n",
        "\n",
        "\n",
        "\n",
        "\n",
        "\n",
        "\n",
        "\n",
        "\n",
        "\n",
        "\n",
        "\n",
        "\n",
        "\n",
        "\n",
        "\n",
        "\n",
        "\n",
        "\n",
        "\n",
        "\n",
        "\n",
        "\n",
        "\n",
        "\n",
        ""
      ],
      "metadata": {
        "colab": {
          "base_uri": "https://localhost:8080/",
          "height": 487
        },
        "id": "mJ2BoJr5eoGp",
        "outputId": "c8f54d5b-9bf0-42db-c2e6-182a955455c1"
      },
      "execution_count": 15,
      "outputs": [
        {
          "output_type": "display_data",
          "data": {
            "text/plain": [
              "<Figure size 640x480 with 1 Axes>"
            ],
            "image/png": "[encoded data removed]"
          },
          "metadata": {}
        }
      ]
    }
  ]
}