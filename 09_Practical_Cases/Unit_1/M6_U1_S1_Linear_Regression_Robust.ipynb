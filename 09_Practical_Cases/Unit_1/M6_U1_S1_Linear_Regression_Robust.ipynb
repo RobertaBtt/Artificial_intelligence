{
  "nbformat": 4,
  "nbformat_minor": 0,
  "metadata": {
    "colab": {
      "provenance": []
    },
    "kernelspec": {
      "name": "python3",
      "display_name": "Python 3"
    },
    "language_info": {
      "name": "python"
    }
  },
  "cells": [
    {
      "cell_type": "markdown",
      "source": [
        "# Practical example: Robust Linear Regression on Max/MinTemperature"
      ],
      "metadata": {
        "id": "BmFKo_F2L58L"
      }
    },
    {
      "cell_type": "markdown",
      "source": [
        "This type of linear regression is applied in cases where there are outliers, which are characterized\n",
        "by lacking other close points or observations, so that when trying to adapt a model to these data,\n",
        "the line will attempt to pass close to them, thereby greatly affecting the result obtained.\n",
        "One solution is to use algorithms that have a robust error function (HUBER) or a more robust\n",
        "algorithm (RANSAC)."
      ],
      "metadata": {
        "id": "BZoe0_29nwWn"
      }
    },
    {
      "cell_type": "markdown",
      "source": [
        "Multiple linear regression is a generalization of the previous case in which any number of input\n",
        "variables X can be used to obtain a prediction of the y value."
      ],
      "metadata": {
        "id": "wnpMwZnqMDLb"
      }
    },
    {
      "cell_type": "markdown",
      "source": [
        "In the following example, we are going to generate random simple linear regression data, so data\n",
        "with a single feature or input variable. A series of outliers will be added to this dataset and we will\n",
        "compare the simple linear regression with the actual value, which is the one obtained by means\n",
        "of a robust algorithm, RANSAC, and by means of an algorithm with a robust error function,\n",
        "HUBER."
      ],
      "metadata": {
        "id": "TtNIVHUvirg7"
      }
    },
    {
      "cell_type": "markdown",
      "source": [
        "Import required libraries"
      ],
      "metadata": {
        "id": "pbBnlYLGjQ8G"
      }
    },
    {
      "cell_type": "code",
      "source": [
        "import pandas as pd\n",
        "import numpy as np\n",
        "from matplotlib import pyplot as plt\n",
        "import statsmodels.api as sm\n",
        "from sklearn import linear_model, datasets\n"
      ],
      "metadata": {
        "id": "OKbtS2zUjTVn"
      },
      "execution_count": 1,
      "outputs": []
    },
    {
      "cell_type": "markdown",
      "source": [
        "Next, generate the function using a tool from the “sklearn” library, which allows us to define the\n",
        "number of samples, as well as the number of features, and makes a simple linear regression with\n",
        "the actual data, thereby giving us the coefficient."
      ],
      "metadata": {
        "id": "jNw-LWZsoRzs"
      }
    },
    {
      "cell_type": "code",
      "source": [
        "#Generate random data with a single variable\n",
        "n_samples = 1000\n",
        "X, y, coef = datasets.make_regression(n_samples=n_samples,\n",
        "                                      n_features=1,\n",
        "                                      n_informative=1,\n",
        "                                      noise=10,\n",
        "                                      coef=True,\n",
        "                                      random_state=0)"
      ],
      "metadata": {
        "id": "QECkkERUoK9J"
      },
      "execution_count": 2,
      "outputs": []
    },
    {
      "cell_type": "markdown",
      "source": [
        "Add the outliers."
      ],
      "metadata": {
        "id": "i6didtk4oaOT"
      }
    },
    {
      "cell_type": "code",
      "source": [
        "n_outliers = 50\n",
        "np.random.seed(0)\n",
        "X[:n_outliers] = 3 + 0.5 * np.random.normal(size=(n_outliers,1))\n",
        "y[:n_outliers] = -3 + 10 * np.random.normal(size=n_outliers)"
      ],
      "metadata": {
        "id": "hT68U468od9S"
      },
      "execution_count": 3,
      "outputs": []
    },
    {
      "cell_type": "markdown",
      "source": [
        "Generate the linear predictor and define the linear model"
      ],
      "metadata": {
        "id": "AICK_0E3oqJ5"
      }
    },
    {
      "cell_type": "code",
      "source": [
        "regressor_linear = linear_model.LinearRegression()\n"
      ],
      "metadata": {
        "id": "nN4SuhXHoqwB"
      },
      "execution_count": 4,
      "outputs": []
    },
    {
      "cell_type": "markdown",
      "source": [
        "Adjust the model using the Least Squares"
      ],
      "metadata": {
        "id": "pEpK_NX-o267"
      }
    },
    {
      "cell_type": "code",
      "source": [
        "regressor_linear.fit(X,y)\n"
      ],
      "metadata": {
        "id": "sDipNbWso4op"
      },
      "execution_count": null,
      "outputs": []
    },
    {
      "cell_type": "markdown",
      "source": [
        "Generate the predictor with the robust HUBER error function."
      ],
      "metadata": {
        "id": "A3Ls4EETpNer"
      }
    },
    {
      "cell_type": "code",
      "source": [
        "#generate predictor with robust HUBER error function\n",
        "regressor_huber = sm.RLM(y, X, M = sm.robust.norms.HuberT())"
      ],
      "metadata": {
        "id": "MJZFYtfwpaH9"
      },
      "execution_count": 6,
      "outputs": []
    },
    {
      "cell_type": "code",
      "source": [
        "#adjust model using iteratively reweighted least squares\n",
        "hub_results = regressor_huber.fit()"
      ],
      "metadata": {
        "id": "_mQh4XwlrTww"
      },
      "execution_count": 7,
      "outputs": []
    },
    {
      "cell_type": "markdown",
      "source": [
        "Generate the predictor with a robust RANSAC algorithm."
      ],
      "metadata": {
        "id": "Qf0iozKmrhM2"
      }
    },
    {
      "cell_type": "code",
      "source": [
        "#generate predictor with robust ransac algorithm\n",
        "regressor_ransac = linear_model.RANSACRegressor()\n",
        "regressor_ransac.fit(X,y)\n",
        "inlier_mask = regressor_ransac.inlier_mask_\n",
        "outlier_mask = np.logical_not(inlier_mask)"
      ],
      "metadata": {
        "id": "eIp-d8gZrpeS"
      },
      "execution_count": 8,
      "outputs": []
    },
    {
      "cell_type": "markdown",
      "source": [
        "Calculate the predictions of the values."
      ],
      "metadata": {
        "id": "9aHX8-amrufm"
      }
    },
    {
      "cell_type": "code",
      "source": [
        "#calculate predictions\n",
        "y_pred_linear = regressor_linear.predict(X)\n",
        "y_pred_ransac = regressor_ransac.predict(X)\n",
        "y_pred_huber = hub_results.fittedvalues"
      ],
      "metadata": {
        "id": "BMtfNrUCryR6"
      },
      "execution_count": 9,
      "outputs": []
    },
    {
      "cell_type": "markdown",
      "source": [
        "Show the coefficients calculated for each predictor, for a comparison."
      ],
      "metadata": {
        "id": "ysgNIB8wr5LD"
      }
    },
    {
      "cell_type": "code",
      "source": [
        "#show coefficients calculated for each predictor, for a comparison\n",
        "#compare coeffs estimated by each alg\n",
        "data = [coef, regressor_linear.coef_[0], regressor_ransac.estimator_.coef_[0], hub_results.params[0]]\n",
        "index = ['real','linear regression','RANSAC', 'Huber']\n",
        "coeff = pd.DataFrame(data=data, index=index)\n",
        "\n",
        "print(coeff)"
      ],
      "metadata": {
        "colab": {
          "base_uri": "https://localhost:8080/"
        },
        "id": "JosVwyarr8Ka",
        "outputId": "9a481843-0d1e-42e9-816e-5eb1de6f68d7"
      },
      "execution_count": 10,
      "outputs": [
        {
          "output_type": "stream",
          "name": "stdout",
          "text": [
            "                           0\n",
            "real               82.190391\n",
            "linear regression  54.172364\n",
            "RANSAC             82.085332\n",
            "Huber              79.123250\n"
          ]
        }
      ]
    },
    {
      "cell_type": "markdown",
      "source": [
        "It can be clearly observed that in the case that the dataset has outliers, using a robust algorithm\n",
        "gives a better solution, even better than if we only use robustness in the error function."
      ],
      "metadata": {
        "id": "tucBF5fmsCoc"
      }
    },
    {
      "cell_type": "markdown",
      "source": [
        "Next, we can produce the comparative result."
      ],
      "metadata": {
        "id": "LU7hCw4hsEPp"
      }
    },
    {
      "cell_type": "code",
      "source": [
        "# viualize\n",
        "plt.scatter(X[inlier_mask], y[inlier_mask], color='yellowgreen',marker='.',label='Inliers')\n",
        "plt.scatter(X[outlier_mask], y[outlier_mask], color='gold',marker='.',label='Outliers')\n",
        "plt.plot(X, y_pred_linear, color='navy', linewidth=2,label='Linear Regressor')\n",
        "plt.plot(X, y_pred_ransac, color='cornflowerblue',linewidth=2,label='RANSAC regressor')\n",
        "plt.plot(X, y_pred_huber, color='red', linewidth=2, label='Huber regressor')\n",
        "plt.legend(loc='lower right')\n",
        "plt.xlabel('Input')\n",
        "plt.ylabel('Response')\n",
        "plt.show()"
      ],
      "metadata": {
        "colab": {
          "base_uri": "https://localhost:8080/",
          "height": 449
        },
        "id": "dtMC3brSr-_T",
        "outputId": "b3669740-f37e-492b-f0b6-3b73f9143bbf"
      },
      "execution_count": 11,
      "outputs": [
        {
          "output_type": "display_data",
          "data": {
            "text/plain": [
              "<Figure size 640x480 with 1 Axes>"
            ],
            "image/png": "[encoded data removed]"
          },
          "metadata": {}
        }
      ]
    }
  ]
}