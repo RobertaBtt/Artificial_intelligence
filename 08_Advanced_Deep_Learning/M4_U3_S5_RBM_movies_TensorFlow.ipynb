{
  "nbformat": 4,
  "nbformat_minor": 0,
  "metadata": {
    "colab": {
      "provenance": []
    },
    "kernelspec": {
      "name": "python3",
      "display_name": "Python 3"
    },
    "language_info": {
      "name": "python"
    }
  },
  "cells": [
    {
      "cell_type": "markdown",
      "source": [
        "# RBM - Movies Recomendation with TensorFlow\n",
        "\n",
        "---\n",
        "\n"
      ],
      "metadata": {
        "id": "MC8kwk-1j8Dn"
      }
    },
    {
      "cell_type": "markdown",
      "source": [
        "# Nuova sezione"
      ],
      "metadata": {
        "id": "dZ4eF2ij25UJ"
      }
    },
    {
      "cell_type": "code",
      "source": [
        "# Importing the libraries\n",
        "import numpy as np\n",
        "import pandas as pd\n",
        "import torch\n",
        "import torch.nn.parallel\n",
        "import torch.utils.data\n",
        "\n",
        "import tensorflow as tf\n",
        "import numpy as np\n",
        "import matplotlib.pyplot as plt"
      ],
      "metadata": {
        "id": "0SyqOh2tkBnO"
      },
      "execution_count": 1,
      "outputs": []
    },
    {
      "cell_type": "markdown",
      "source": [
        "Load the data"
      ],
      "metadata": {
        "id": "ZG7uuCiIkTkJ"
      }
    },
    {
      "cell_type": "code",
      "source": [
        "# Load data\n",
        "df_ratings = pd.read_csv('ml-latest-small/ratings.csv')\n",
        "df_ratings = df_ratings[['userId', 'movieId', 'rating']]\n"
      ],
      "metadata": {
        "id": "P6RKEd7ykS8Q"
      },
      "execution_count": null,
      "outputs": []
    },
    {
      "cell_type": "markdown",
      "source": [
        "Of all the files provided by MovieLens we are interested in ratings.csv, as it contains the id of each\n",
        "user and the rating that it gives to each movie, all in one table as follows:"
      ],
      "metadata": {
        "id": "YzmIpksHnZgM"
      }
    },
    {
      "cell_type": "code",
      "source": [
        "print(df_ratings.head())"
      ],
      "metadata": {
        "colab": {
          "base_uri": "https://localhost:8080/"
        },
        "id": "mpJGILAJndRU",
        "outputId": "35e7d1c3-85b4-48d2-e57c-67b9f9cb5ac5"
      },
      "execution_count": null,
      "outputs": [
        {
          "output_type": "stream",
          "name": "stdout",
          "text": [
            "   userId  movieId  rating\n",
            "0       1        1     4.0\n",
            "1       1        3     4.0\n",
            "2       1        6     4.0\n",
            "3       1       47     5.0\n",
            "4       1       50     5.0\n"
          ]
        }
      ]
    },
    {
      "cell_type": "markdown",
      "source": [
        "Now, this is not the matrix structure we need for RBM. We need each row to represent a single\n",
        "user, and for each column to represent a movie. The value of the cells will be the user's rating to\n",
        "that movie, and when a certain rating does not exist, we will assign a null value by default. To\n",
        "move from the previous table to this new configuration we pivot the first table as follows."
      ],
      "metadata": {
        "id": "zl5NeTspoiEz"
      }
    },
    {
      "cell_type": "code",
      "source": [
        "# Pivot table\n",
        "df_input = pd.pivot_table(df_ratings, values='rating', index=['userId'], columns=['movieId'], aggfunc=np.sum)\n",
        "print(df_input.head())"
      ],
      "metadata": {
        "colab": {
          "base_uri": "https://localhost:8080/"
        },
        "id": "NFWSXOeEoW26",
        "outputId": "66d2745f-7140-4cd0-c859-6225a3021dd9"
      },
      "execution_count": null,
      "outputs": [
        {
          "output_type": "stream",
          "name": "stdout",
          "text": [
            "movieId  1       2       3       4       5       6       7       8       \\\n",
            "userId                                                                    \n",
            "1           4.0     NaN     4.0     NaN     NaN     4.0     NaN     NaN   \n",
            "2           NaN     NaN     NaN     NaN     NaN     NaN     NaN     NaN   \n",
            "3           NaN     NaN     NaN     NaN     NaN     NaN     NaN     NaN   \n",
            "4           NaN     NaN     NaN     NaN     NaN     NaN     NaN     NaN   \n",
            "5           4.0     NaN     NaN     NaN     NaN     NaN     NaN     NaN   \n",
            "\n",
            "movieId  9       10      ...  193565  193567  193571  193573  193579  193581  \\\n",
            "userId                   ...                                                   \n",
            "1           NaN     NaN  ...     NaN     NaN     NaN     NaN     NaN     NaN   \n",
            "2           NaN     NaN  ...     NaN     NaN     NaN     NaN     NaN     NaN   \n",
            "3           NaN     NaN  ...     NaN     NaN     NaN     NaN     NaN     NaN   \n",
            "4           NaN     NaN  ...     NaN     NaN     NaN     NaN     NaN     NaN   \n",
            "5           NaN     NaN  ...     NaN     NaN     NaN     NaN     NaN     NaN   \n",
            "\n",
            "movieId  193583  193585  193587  193609  \n",
            "userId                                   \n",
            "1           NaN     NaN     NaN     NaN  \n",
            "2           NaN     NaN     NaN     NaN  \n",
            "3           NaN     NaN     NaN     NaN  \n",
            "4           NaN     NaN     NaN     NaN  \n",
            "5           NaN     NaN     NaN     NaN  \n",
            "\n",
            "[5 rows x 9724 columns]\n"
          ]
        }
      ]
    },
    {
      "cell_type": "markdown",
      "source": [
        "We can see how most movies don't have a rating, and they therefore have a null value associated\n",
        "with them.\n",
        "The next step is to replace null values with a numeric value that the RBM recognizes so as not to\n",
        "consider during training the weights of a visible unit with respect to its hidden ones when that\n",
        "visible unit has that value. This default value will be set to -1."
      ],
      "metadata": {
        "id": "OxpOstk1o3Y8"
      }
    },
    {
      "cell_type": "code",
      "source": [
        "# Deal with NaN\n",
        "df_input = df_input.fillna(-1)\n",
        "print(df_input.head())"
      ],
      "metadata": {
        "colab": {
          "base_uri": "https://localhost:8080/"
        },
        "id": "l-fB11Oeo5_I",
        "outputId": "900f72df-7c53-43ac-baeb-8191198797ce"
      },
      "execution_count": null,
      "outputs": [
        {
          "output_type": "stream",
          "name": "stdout",
          "text": [
            "movieId  1       2       3       4       5       6       7       8       \\\n",
            "userId                                                                    \n",
            "1           4.0    -1.0     4.0    -1.0    -1.0     4.0    -1.0    -1.0   \n",
            "2          -1.0    -1.0    -1.0    -1.0    -1.0    -1.0    -1.0    -1.0   \n",
            "3          -1.0    -1.0    -1.0    -1.0    -1.0    -1.0    -1.0    -1.0   \n",
            "4          -1.0    -1.0    -1.0    -1.0    -1.0    -1.0    -1.0    -1.0   \n",
            "5           4.0    -1.0    -1.0    -1.0    -1.0    -1.0    -1.0    -1.0   \n",
            "\n",
            "movieId  9       10      ...  193565  193567  193571  193573  193579  193581  \\\n",
            "userId                   ...                                                   \n",
            "1          -1.0    -1.0  ...    -1.0    -1.0    -1.0    -1.0    -1.0    -1.0   \n",
            "2          -1.0    -1.0  ...    -1.0    -1.0    -1.0    -1.0    -1.0    -1.0   \n",
            "3          -1.0    -1.0  ...    -1.0    -1.0    -1.0    -1.0    -1.0    -1.0   \n",
            "4          -1.0    -1.0  ...    -1.0    -1.0    -1.0    -1.0    -1.0    -1.0   \n",
            "5          -1.0    -1.0  ...    -1.0    -1.0    -1.0    -1.0    -1.0    -1.0   \n",
            "\n",
            "movieId  193583  193585  193587  193609  \n",
            "userId                                   \n",
            "1          -1.0    -1.0    -1.0    -1.0  \n",
            "2          -1.0    -1.0    -1.0    -1.0  \n",
            "3          -1.0    -1.0    -1.0    -1.0  \n",
            "4          -1.0    -1.0    -1.0    -1.0  \n",
            "5          -1.0    -1.0    -1.0    -1.0  \n",
            "\n",
            "[5 rows x 9724 columns]\n"
          ]
        }
      ]
    },
    {
      "cell_type": "markdown",
      "source": [
        "The next step, as usual, is to separate a train dataset from a test dataset. This will help us to first\n",
        "train the RBM on train data. Next, we'll use the test data as input to the visible units and compare\n",
        "the value predicted by the RBM against that original value to see if the reconstruction is good.\n",
        "This comparison will only be made for visible units of test data that do not have null values. We\n",
        "use 80% of the data for training and 20% for the final evaluation."
      ],
      "metadata": {
        "id": "BDhdrJLgpE5k"
      }
    },
    {
      "cell_type": "code",
      "source": [
        "# Train/Test split\n",
        "X = df_input.sample(frac=1).round() # Round ratings\n",
        "len_train = int(np.round(0.8*len(X)))\n",
        "X_train = X.head(len_train)\n",
        "X_test = X.tail(len_train)"
      ],
      "metadata": {
        "id": "xuMssW8gpHQZ"
      },
      "execution_count": null,
      "outputs": []
    },
    {
      "cell_type": "markdown",
      "source": [
        "The next step is to transform those arrays to the tensor format used by PyTorch. We do this as\n",
        "follows."
      ],
      "metadata": {
        "id": "Xu5RD0S6pMPl"
      }
    },
    {
      "cell_type": "code",
      "source": [
        "# Converting to PyTorch tensors\n",
        "training_set = X_train.values\n",
        "test_set = X_test.values\n",
        "training_set = torch.FloatTensor(training_set)\n",
        "test_set = torch.FloatTensor(test_set)"
      ],
      "metadata": {
        "id": "RX3-F1rIpOfF"
      },
      "execution_count": null,
      "outputs": []
    },
    {
      "cell_type": "markdown",
      "source": [
        "The next step in the initial processing is to move from the scale ratings 1 to 5 provided by\n",
        "MovieLens to a binary scale, which represents the possible states that the RBM will have. This\n",
        "way, a state of 0 will represent movies that the user didn't like, and a 1 that will. Similarly, the\n",
        "RBM predictions for visible units over the null-values will have a 1 for the movies that the model\n",
        "thinks that the user will like, and 0 for the other ones. The null variables are already with a value\n",
        "of -1, so we don't need to change anything in them. Let's consider that a user likes a movie if their\n",
        "rating has been greater than 3, and that they didn't like it if it was lower. We do all this directly as\n",
        "follows thanks to PyTorch syntax."
      ],
      "metadata": {
        "id": "yDADpuj_pdz2"
      }
    },
    {
      "cell_type": "code",
      "source": [
        "# Converting the ratings into binary ratings 1 (Liked) or 0 (Did not liked)\n",
        "training_set[training_set == 1] = 0\n",
        "training_set[training_set == 2] = 0\n",
        "training_set[training_set >= 3] = 1\n",
        "test_set[test_set == 1] = 0\n",
        "test_set[test_set == 2] = 0\n",
        "test_set[test_set >= 3] = 1"
      ],
      "metadata": {
        "id": "SczZSrVgpiGG"
      },
      "execution_count": null,
      "outputs": []
    },
    {
      "cell_type": "markdown",
      "source": [
        "From this point on we will build the RBM. To do this, we'll create an RBM class in Python that has\n",
        "different methods for executing the different parts of the algorithm. We're going to see one by one\n",
        "each of them. This class will also receive a series of input hyperparameters during instantiation,\n",
        "and will also initialize the NN's trainable parameters: the weights and biases of the two layers.\n",
        "For this reason, the class and its constructor are as follows:"
      ],
      "metadata": {
        "id": "phv5eAO_px28"
      }
    },
    {
      "cell_type": "code",
      "source": [
        "class RBM():\n",
        "  def __init__(self, nv, nh, batch_size, nb_epoch, k_steps, learning_rate,verbose):\n",
        "    self.W = torch.randn(nh, nv)\n",
        "    self.a = torch.randn(1, nh)\n",
        "    self.b = torch.randn(1, nv)\n",
        "    self.nh = nh\n",
        "    self.nv = nv\n",
        "    self.verbose = verbose\n",
        "    self.batch_size = batch_size\n",
        "    self.nb_epoch = nb_epoch\n",
        "    self.k_steps = k_steps\n",
        "    self.learning_rate = learning_rate"
      ],
      "metadata": {
        "id": "rnZKHHmVp0QG"
      },
      "execution_count": null,
      "outputs": []
    },
    {
      "cell_type": "markdown",
      "source": [
        "The nv and nh parameters represent the number of visible units and hidden units respectively.\n",
        "Thus, the connection between them is defined with an array of dimension W weights [nh x nv].\n",
        "Along with this, we define the bias vector of the hidden layer, a, and that of the visible layer, b.\n",
        "The value of these parameters is defined with random values using the randn() function, which\n",
        "returns random values taken from a normal distribution (between 0 and 1).\n",
        "All other parameters correspond to the hyperparameters of the model and must be specified by\n",
        "the user. These are:\n",
        "▪ batch_size: the size of the batch size with which the NN is trained together.\n",
        "▪ nb_epochs: Number of Epochs used.\n",
        "▪ k_steps: The number of steps considered until comparing the reconstructed vector with\n",
        "the input vector. For the equations seen within the course, we have considered k=1 and\n",
        "compared the first sampling of visible units inferred from the RBM with the original input\n",
        "units.\n",
        "▪ learning_rate: The learning rate parameter considered in the weight and bias update.\n",
        "The next step is to define the sampling equation for the hidden units. That is, given an input vector\n",
        "of visible units, using the weights and bias, get the corresponding state of the hidden units.\n",
        "Remembering the theory, this is calculated as follows\n",
        "\n",
        "![image.png](data:image/png;base64,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)\n",
        "\n",
        "We have changed in the bias nomenclature: in the original equations it is b for the equation of the hidden\n",
        "units and a for the visible ones. Here it is the other way around."
      ],
      "metadata": {
        "id": "rOm3fY8RqRni"
      }
    },
    {
      "cell_type": "markdown",
      "source": [
        "In this way, the conditioned probability that says how likely a particular hidden unit is worth 1 by\n",
        "having the input vector information of visible units, is obtained by multiplying the vector of visible\n",
        "units by the corresponding weights, adding the bias and applying the sigmoid function on the\n",
        "result. Within PyTorch, it's as follows"
      ],
      "metadata": {
        "id": "VCqrRGfoqdrS"
      }
    },
    {
      "cell_type": "code",
      "source": [
        "def sample_h(self, x):\n",
        " wx = torch.mm(x, self.W.t())\n",
        " activation = wx + self.a.expand_as(wx)\n",
        " p_h_given_v = torch.sigmoid(activation)\n",
        " return p_h_given_v, torch.bernoulli(p_h_given_v)"
      ],
      "metadata": {
        "id": "-iKLPwDiqJHd"
      },
      "execution_count": null,
      "outputs": []
    },
    {
      "cell_type": "markdown",
      "source": [
        "In that code snippet, we first multiply the input vector of the visible units (x) by the weight matrix,\n",
        "to get that part of the equation (wx). Then we add the bias and then we get the probability that\n",
        "the output state is 1 applying the sigmoid function. The function returns two values. On the one\n",
        "hand, it returns the probability itself (p_h_given_v), and on the other hand returns the state\n",
        "associated with that probability, using the Bernouilli distribution (torch.bernoulli(p_h_given_v)).\n",
        "The latter serves simply for, for example, if the probability that the state is 1 is 0.3, return a 0 as\n",
        "an associated state.\n",
        "As an additional comment, the expand_as() function is used simply to express a tensor (in this\n",
        "case a) with the dimension of another (in this case wx) in order to be able to do operations\n",
        "between them, such as adding them up in this case.\n",
        "Similarly, we define a function to get the reconstructed state of the units visible based on the value\n",
        "that hidden units have with the same equation seen in the theory:\n",
        "\n",
        "![image.png](data:image/png;base64,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)\n"
      ],
      "metadata": {
        "id": "oK21keuIqy-q"
      }
    },
    {
      "cell_type": "markdown",
      "source": [
        "By taking this to code, we define the function as follows."
      ],
      "metadata": {
        "id": "vKi6dn67q6e6"
      }
    },
    {
      "cell_type": "code",
      "source": [
        "def sample_v(self, y):\n",
        " wy = torch.mm(y, self.W)\n",
        " activation = wy + self.b.expand_as(wy)\n",
        " p_v_given_h = torch.sigmoid(activation)\n",
        " return p_v_given_h, torch.bernoulli(p_v_given_h)"
      ],
      "metadata": {
        "id": "E8o5tdMJq58B"
      },
      "execution_count": null,
      "outputs": []
    },
    {
      "cell_type": "markdown",
      "source": [
        "The structure of the equation is similar to the one we have already explained for hidden units.\n",
        "After that, we define a function to update the weights and biases of the NN. This is done using\n",
        "the Contrastive Divergence (CD) algorithm. In theory we saw the following equation to update the\n",
        "weights after a single step. The 𝜀 parameter represents the learning rate.\n",
        "\n",
        "We implement this in code as follows:\n"
      ],
      "metadata": {
        "id": "gIWHg-zErUvM"
      }
    },
    {
      "cell_type": "code",
      "source": [
        "def update_weights(self, v0, vk, ph0, phk):\n",
        " learning_rate = self.learning_rate\n",
        " self.W += learning_rate*(torch.t(torch.mm(v0.t(), ph0) -torch.mm(vk.t(), phk)))\n",
        " self.b += learning_rate*(torch.sum((v0 - vk), 0))\n",
        " self.a += learning_rate*(torch.sum((ph0 - phk), 0))"
      ],
      "metadata": {
        "id": "S6EISLLQrOVI"
      },
      "execution_count": null,
      "outputs": []
    },
    {
      "cell_type": "markdown",
      "source": [
        "With this function we update the weights and biases within the object we create when instantiating\n",
        "the RBM() class. The function receives as input the start and end value of the visible units (v0\n",
        "and vk) and the start and end of the hidden units (ph0 and phk). It is not necessary to use that\n",
        "torch.sum() since we are adding 0 to the bias, but we leave it in case we want to generalize the\n",
        "code and add a fixed offset on those biases in each update"
      ],
      "metadata": {
        "id": "oPE5uh2hrjFN"
      }
    },
    {
      "cell_type": "markdown",
      "source": [
        "The following function that we will define will take care of the entire process of executing the\n",
        "algorithm, including the use of the parameters of the batch_size and the epochs considered, as\n",
        "well as the number of steps with k_steps. Let's first show the function to execute it, and we'll\n",
        "comment on it in more detail."
      ],
      "metadata": {
        "id": "p9bzel2FrmV3"
      }
    },
    {
      "cell_type": "code",
      "source": [
        "def train(self, training_set):\n",
        " batch_size = self.batch_size\n",
        " nb_epoch = self.nb_epoch\n",
        " k_steps = self.k_steps\n",
        " verbose = self.verbose\n",
        "\n",
        " # Training the RBM\n",
        " for epoch in range(1, nb_epoch + 1):\n",
        "  train_loss = 0\n",
        "  s = 0\n",
        "  nb_users = len(training_set)\n",
        " for id_user in range(0, nb_users - batch_size, batch_size):\n",
        "  vk = training_set[id_user:id_user+batch_size]\n",
        "  v0 = training_set[id_user:id_user+batch_size]\n",
        "  ph0,_ = self.sample_h(v0)\n",
        " for k in range(k_steps):\n",
        "  _,hk = self.sample_h(vk)\n",
        "  _,vk = self.sample_v(hk)\n",
        "  vk[v0<0] = v0[v0<0]\n",
        " phk,_ = self.sample_h(vk)\n",
        " self.update_weights(v0, vk, ph0, phk)\n",
        " train_loss += torch.mean(torch.abs(v0[v0>=0] - vk[v0>=0]))\n",
        " s += 1.\n",
        "\n",
        " if verbose:\n",
        "  print('epoch: '+str(epoch)+' loss: '+str(train_loss/s))"
      ],
      "metadata": {
        "id": "PYOl91L2ril4"
      },
      "execution_count": null,
      "outputs": []
    },
    {
      "cell_type": "markdown",
      "source": [
        "The number of epochs defines the iterations with which to repeat the process, with the same input\n",
        "data, to update the weights and biases.\n",
        "Within each epoch, a subset of input user data is considered together for an update based on the\n",
        "size of the batch_size. These will be multiplied relative to the weight matrix and bias vector (so\n",
        "that each row, which represents a user, is multiplied entirely by those arrays) to jointly generate\n",
        "the same number of corresponding hidden states, and compute the cost function with all that\n",
        "dataset considered.\n",
        "For visible units, we first sample and get the corresponding state of the hidden ones, to iteratively\n",
        "perform the k steps. Each of the k steps samples the hidden state with the state value of the\n",
        "hidden units from step k-1 above."
      ],
      "metadata": {
        "id": "JZMeM3XNsAtb"
      }
    },
    {
      "cell_type": "markdown",
      "source": [
        "An important point of the algorithm is vk[v0<0] = v0[v0<0]. With this we treat the case of visible\n",
        "units with null values. What we do is that for units with value -1 (null value) we keep the original\n",
        "value they had. This way, when there are units with null values, we will not update their\n",
        "corresponding weights.\n",
        "After completing the k steps, the last visible vector reconstructed along with the corresponding\n",
        "hidden state, is used to calculate the negative gradient, and thus update the weights.\n",
        "Finally, we calculate the value of the cost function, which will simply be the mean difference\n",
        "between the array of input states for that batch and the reconstructed ones, also ignoring in that\n",
        "comparison the units with states with -1 (and only seeing the difference in those that have a known\n",
        "value).\n",
        "Next, we define a function to evaluate the RBM. That is, by receiving the test input data, the\n",
        "reconstructions are compared without updating the weights and the difference is measured for\n",
        "visible units that do not have null values. This would look like this:"
      ],
      "metadata": {
        "id": "Q7J0E5PgsEA0"
      }
    },
    {
      "cell_type": "code",
      "source": [
        "def evaluate(self, test_set):\n",
        " verbose = self.verbose\n",
        " nb_users = len(test_set)\n",
        "\n",
        " # Testing the RBM\n",
        " test_loss = 0\n",
        " s = 0.\n",
        " for id_user in range(nb_users):\n",
        "  v = training_set[id_user:id_user+1]\n",
        "  vt = test_set[id_user:id_user+1]\n",
        "  if len(vt[vt>=0]) > 0:\n",
        "    _,h = self.sample_h(v)\n",
        "    _,v = self.sample_v(h)\n",
        "    test_loss += torch.mean(torch.abs(vt[vt>=0] - v[vt>=0]))\n",
        "    s += 1.\n",
        "  if verbose:\n",
        "    print('test loss: '+str(test_loss/s))\n",
        " return test_loss/s"
      ],
      "metadata": {
        "id": "isDheQ4JsRDg"
      },
      "execution_count": null,
      "outputs": []
    },
    {
      "cell_type": "markdown",
      "source": [
        "As we see, the function iterates for each user in the input test_set dataset. First, it ensures that\n",
        "there is at least one rated movie, and if there is one step in the RBM to get the reconstructed input\n",
        "vector. The value of the units without null values is compared, and the mean of the difference\n",
        "between all units is made. This is repeated for each user, and then the mean of the difference\n",
        "means is returned as a metric.\n",
        "One last feature we incorporate is to get the predictions for a user. This function simply receives\n",
        "an input vector from visible units and returns the corresponding reconstructed vector, including\n",
        "new values for visible units with null values. The function is as follows:"
      ],
      "metadata": {
        "id": "Wic62rArslpI"
      }
    },
    {
      "cell_type": "code",
      "source": [
        "def predict(self, v_user):\n",
        " _,h = self.sample_h(v_user)\n",
        " _,v = self.sample_v(h)\n",
        " return v"
      ],
      "metadata": {
        "id": "hVExxkNzsnhz"
      },
      "execution_count": null,
      "outputs": []
    },
    {
      "cell_type": "markdown",
      "source": [
        "With that, the final class for the RBM would look like this:"
      ],
      "metadata": {
        "id": "896rM1b6spjJ"
      }
    },
    {
      "cell_type": "code",
      "source": [
        "#Class that defines the behavior of the RBM\n",
        "class RBM(object):\n",
        "\n",
        "    def __init__(self, input_size, output_size, lr=1.0, batchsize=100):\n",
        "        \"\"\"\n",
        "        m: Number of neurons in visible layer\n",
        "        n: number of neurons in hidden layer\n",
        "        \"\"\"\n",
        "        #Defining the hyperparameters\n",
        "        self._input_size = input_size #Size of Visible\n",
        "        self._output_size = output_size #Size of outp\n",
        "        self.learning_rate = lr #The step used in gradient descent\n",
        "        self.batchsize = batchsize #The size of how much data will be used for training per sub iteration\n",
        "\n",
        "        #Initializing weights and biases as matrices full of zeroes\n",
        "        self.w = tf.zeros([input_size, output_size], np.float32) #Creates and initializes the weights with 0\n",
        "        self.hb = tf.zeros([output_size], np.float32) #Creates and initializes the hidden biases with 0\n",
        "        self.vb = tf.zeros([input_size], np.float32) #Creates and initializes the visible biases with 0\n",
        "\n",
        "\n",
        "    #Forward Pass\n",
        "    def prob_h_given_v(self, visible, w, hb):\n",
        "        #Sigmoid\n",
        "        return tf.nn.sigmoid(tf.matmul(visible, w) + hb)\n",
        "\n",
        "    #Backward Pass\n",
        "    def prob_v_given_h(self, hidden, w, vb):\n",
        "        return tf.nn.sigmoid(tf.matmul(hidden, tf.transpose(w)) + vb)\n",
        "\n",
        "    #Generate the sample probability\n",
        "    def sample_prob(self, probs):\n",
        "        return tf.nn.relu(tf.sign(probs - tf.random.uniform(tf.shape(probs))))\n",
        "\n",
        "    #Training method for the model\n",
        "    def train(self, X, epochs=10):\n",
        "\n",
        "        loss = []\n",
        "        for epoch in range(epochs):\n",
        "            #For each step/batch\n",
        "            for start, end in zip(range(0, len(X), self.batchsize),range(self.batchsize,len(X), self.batchsize)):\n",
        "                batch = X[start:end]\n",
        "\n",
        "                #Initialize with sample probabilities\n",
        "\n",
        "                h0 = self.sample_prob(self.prob_h_given_v(batch, self.w, self.hb))\n",
        "                v1 = self.sample_prob(self.prob_v_given_h(h0, self.w, self.vb))\n",
        "                h1 = self.prob_h_given_v(v1, self.w, self.hb)\n",
        "\n",
        "                #Create the Gradients\n",
        "                positive_grad = tf.matmul(tf.transpose(batch), h0)\n",
        "                negative_grad = tf.matmul(tf.transpose(v1), h1)\n",
        "\n",
        "                #Update learning rates\n",
        "                self.w = self.w + self.learning_rate *(positive_grad - negative_grad) / tf.dtypes.cast(tf.shape(batch)[0],tf.float32)\n",
        "                self.vb = self.vb +  self.learning_rate * tf.reduce_mean(batch - v1, 0)\n",
        "                self.hb = self.hb +  self.learning_rate * tf.reduce_mean(h0 - h1, 0)\n",
        "\n",
        "            #Find the error rate\n",
        "            err = tf.reduce_mean(tf.square(batch - v1))\n",
        "            print ('Epoch: %d' % epoch,'reconstruction error: %f' % err)\n",
        "            loss.append(err)\n",
        "\n",
        "        return loss\n",
        "\n",
        "    #Create expected output for our DBN\n",
        "    def rbm_output(self, X):\n",
        "        out = tf.nn.sigmoid(tf.matmul(X, self.w) + self.hb)\n",
        "        return out\n",
        "\n",
        "    def rbm_reconstruct(self,X):\n",
        "        h = tf.nn.sigmoid(tf.matmul(X, self.w) + self.hb)\n",
        "        reconstruct = tf.nn.sigmoid(tf.matmul(h, tf.transpose(self.w)) + self.vb)\n",
        "        return reconstruct"
      ],
      "metadata": {
        "id": "LF5EMh5nssD_"
      },
      "execution_count": null,
      "outputs": []
    },
    {
      "cell_type": "markdown",
      "source": [
        "After implementing the class, we can train the RBM on the train data. To do this, we first define\n",
        "the necessary hyperparameters."
      ],
      "metadata": {
        "id": "Lk311ip8ttEb"
      }
    },
    {
      "cell_type": "code",
      "source": [
        "# Hyperparameters\n",
        "nv = len(training_set[0])\n",
        "nh = 100\n",
        "batch_size = 100\n",
        "nb_epoch = 10\n",
        "k_steps = 10\n",
        "learning_rate = 1\n",
        "verbose = True"
      ],
      "metadata": {
        "id": "_QSL9RKLtvGx"
      },
      "execution_count": null,
      "outputs": []
    },
    {
      "cell_type": "markdown",
      "source": [
        "All parameters can be defined with the values we want, except for the visible units, which\n",
        "necessarily corresponds to the number of movies that are available.\n",
        "With this, we train the RBM."
      ],
      "metadata": {
        "id": "MKMkuvRous-4"
      }
    },
    {
      "cell_type": "code",
      "source": [
        "# Train model\n",
        "rbm = RBM(nv, nh, batch_size, nb_epoch, k_steps, learning_rate, verbose)\n",
        "rbm.train(training_set)"
      ],
      "metadata": {
        "colab": {
          "base_uri": "https://localhost:8080/"
        },
        "id": "_soBZLiauu5i",
        "outputId": "b9bddec9-8bac-4298-d68b-c6f8bad41760"
      },
      "execution_count": null,
      "outputs": [
        {
          "output_type": "stream",
          "name": "stdout",
          "text": [
            "epoch: 1 loss: tensor(0.4935)\n",
            "epoch: 1 loss: tensor(0.4827)\n",
            "epoch: 1 loss: tensor(0.4364)\n",
            "epoch: 1 loss: tensor(0.4020)\n",
            "epoch: 2 loss: tensor(0.2718)\n",
            "epoch: 2 loss: tensor(0.2797)\n",
            "epoch: 2 loss: tensor(0.2617)\n",
            "epoch: 2 loss: tensor(0.2504)\n",
            "epoch: 3 loss: tensor(0.2397)\n",
            "epoch: 3 loss: tensor(0.2475)\n",
            "epoch: 3 loss: tensor(0.2431)\n",
            "epoch: 3 loss: tensor(0.2362)\n",
            "epoch: 4 loss: tensor(0.2385)\n",
            "epoch: 4 loss: tensor(0.2491)\n",
            "epoch: 4 loss: tensor(0.2404)\n",
            "epoch: 4 loss: tensor(0.2313)\n",
            "epoch: 5 loss: tensor(0.2316)\n",
            "epoch: 5 loss: tensor(0.2498)\n",
            "epoch: 5 loss: tensor(0.2397)\n",
            "epoch: 5 loss: tensor(0.2268)\n",
            "epoch: 6 loss: tensor(0.2224)\n",
            "epoch: 6 loss: tensor(0.2360)\n",
            "epoch: 6 loss: tensor(0.2308)\n",
            "epoch: 6 loss: tensor(0.2211)\n",
            "epoch: 7 loss: tensor(0.2596)\n",
            "epoch: 7 loss: tensor(0.2764)\n",
            "epoch: 7 loss: tensor(0.2626)\n",
            "epoch: 7 loss: tensor(0.2496)\n",
            "epoch: 8 loss: tensor(0.2230)\n",
            "epoch: 8 loss: tensor(0.2374)\n",
            "epoch: 8 loss: tensor(0.2315)\n",
            "epoch: 8 loss: tensor(0.2215)\n",
            "epoch: 9 loss: tensor(0.2249)\n",
            "epoch: 9 loss: tensor(0.2441)\n",
            "epoch: 9 loss: tensor(0.2353)\n",
            "epoch: 9 loss: tensor(0.2246)\n",
            "epoch: 10 loss: tensor(0.2172)\n",
            "epoch: 10 loss: tensor(0.2331)\n",
            "epoch: 10 loss: tensor(0.2249)\n",
            "epoch: 10 loss: tensor(0.2140)\n"
          ]
        }
      ]
    },
    {
      "cell_type": "markdown",
      "source": [
        "Apparently, they are not bad results; the value of the cost function is relatively low. The next point\n",
        "is to evaluate the model on the test data. We do this directly by calling the evaluation function that\n",
        "we defined in the class and using the test data."
      ],
      "metadata": {
        "id": "iMtTwUu8u_9o"
      }
    },
    {
      "cell_type": "code",
      "source": [
        "# Evaluation\n",
        "rbm.evaluate(test_set)"
      ],
      "metadata": {
        "colab": {
          "base_uri": "https://localhost:8080/"
        },
        "id": "lHi_pD_GvBxW",
        "outputId": "2f80c20a-2340-4899-9179-d71ae008f6ec"
      },
      "execution_count": null,
      "outputs": [
        {
          "output_type": "stream",
          "name": "stdout",
          "text": [
            "test loss: tensor(0.2198)\n"
          ]
        },
        {
          "output_type": "execute_result",
          "data": {
            "text/plain": [
              "tensor(0.2198)"
            ]
          },
          "metadata": {},
          "execution_count": 29
        }
      ]
    },
    {
      "cell_type": "markdown",
      "source": [
        "As a final step, we will see the movies that the RBM would recommend to a specific user as it\n",
        "estimates that they will like them. To do this, we're going to first get the vector of visible units\n",
        "reconstructed for a user, and then we'll see which movies correspond to visible units that in the\n",
        "original vector had a value of -1 (no rating) and now have 1 in the reconstructed vector (meaning\n",
        "that the user may like them). To do this we do the following:"
      ],
      "metadata": {
        "id": "TXCAqoOuvHpY"
      }
    },
    {
      "cell_type": "code",
      "source": [
        "# Obtain an individual prediction\n",
        "v_test = test_set[0:1]\n",
        "v_pred = rbm.predict(v_test)\n",
        "# Check movie for that prediction\n",
        "id_movies = ([v_pred==1][0][0]) & ([v_test==-1][0][0])\n",
        "id_movies = id_movies.tolist()\n",
        "# Combine with movie titles and see results for units with missing values\n",
        "df_recom = pd.DataFrame({'id_check':id_movies})\n",
        "df_movies = pd.read_csv('ml-latest-small/movies.csv')\n",
        "df_recom = df_recom.reset_index().rename(columns={'index':'movieId'}).merge(df_movies)\n"
      ],
      "metadata": {
        "id": "V9mxDEBAvRu5"
      },
      "execution_count": null,
      "outputs": []
    },
    {
      "cell_type": "markdown",
      "source": [
        "With this, we are defining in id_movies a vector with boolean values (True/False) with True only\n",
        "for those movies that originally had a value of -1 and now have it of 1 (the ones we want to\n",
        "recommend). For all other cases we have False (both for movies already viewed, and for movies\n",
        "that do not see with a value of 0 in the rebuild). All this shows us the following example output of\n",
        "10 films that can be recommended:"
      ],
      "metadata": {
        "id": "lkwJrxEpvpRg"
      }
    },
    {
      "cell_type": "code",
      "source": [
        "print(\"Recommended movies: \")\n",
        "print(df_recom[df_recom['id_check']==True]['title'].head(10))"
      ],
      "metadata": {
        "colab": {
          "base_uri": "https://localhost:8080/"
        },
        "id": "RFQCGAHWvq6t",
        "outputId": "3f80645c-a49e-4655-80cd-4aaf3d2efd9a"
      },
      "execution_count": null,
      "outputs": [
        {
          "output_type": "stream",
          "name": "stdout",
          "text": [
            "Recommended movies: \n",
            "0                       Toy Story (1995)\n",
            "2                Grumpier Old Men (1995)\n",
            "3               Waiting to Exhale (1995)\n",
            "4     Father of the Bride Part II (1995)\n",
            "5                            Heat (1995)\n",
            "6                         Sabrina (1995)\n",
            "7                    Tom and Huck (1995)\n",
            "8                    Sudden Death (1995)\n",
            "9                       GoldenEye (1995)\n",
            "11    Dracula: Dead and Loving It (1995)\n",
            "Name: title, dtype: object\n"
          ]
        }
      ]
    }
  ]
}