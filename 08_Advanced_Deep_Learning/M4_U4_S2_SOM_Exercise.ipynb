{
  "nbformat": 4,
  "nbformat_minor": 0,
  "metadata": {
    "colab": {
      "provenance": []
    },
    "kernelspec": {
      "name": "python3",
      "display_name": "Python 3"
    },
    "language_info": {
      "name": "python"
    }
  },
  "cells": [
    {
      "cell_type": "markdown",
      "source": [
        "SOM Exercise"
      ],
      "metadata": {
        "id": "PMQMs16CS5u0"
      }
    },
    {
      "cell_type": "markdown",
      "source": [
        "Parameters defined in the constructor include grid dimensions (m, n), number of input variables\n",
        "(dim), number of iterations (num_iterations), learning rate (learning_rate), and radius considered\n",
        "for neighbors (sigma).\n",
        "The initial learning rate and sigma values are stored in the constructor in learning_rate_0 and\n",
        "sigma_0 respectively. In addition, weight values are initialized by taking them from a normal\n",
        "distribution (values between 0 and 1).\n",
        "topography defines an array of (mxn) x 2 where each row represents the coordinates on the map\n",
        "of that unit. For example, if m=30 and n=30, it would be (900,2). For that example, unit 5 in the\n",
        "list is at coordinates [0,5], 200 at [6,20], and the last is [30,30].\n",
        "The _neuron_location()methodis used togenerate positions in the Maya for an array of units. It is\n",
        "defined as follows."
      ],
      "metadata": {
        "id": "7m_ANXXsS7nU"
      }
    },
    {
      "cell_type": "code",
      "execution_count": null,
      "metadata": {
        "id": "UP59v0pbRpog"
      },
      "outputs": [],
      "source": [
        "# -*- coding: utf-8 -*-\n",
        "\n",
        "import tensorflow as tf\n",
        "import pandas as pd\n",
        "import numpy as np\n",
        "from sklearn.preprocessing import StandardScaler, MinMaxScaler\n",
        "\n",
        "# Define the Winner Take All units\n",
        "class SOM():\n",
        "\n",
        "    def __init__(self, m, n, dim, num_iterations=1, learning_rate = 0.5, sigma = None):\n",
        "\n",
        "        self._m = m\n",
        "        self._n = n\n",
        "        self._neighbourhood = []\n",
        "        self._topography = []\n",
        "        self._num_iterations = int(num_iterations)\n",
        "        self._learned = False\n",
        "        self.dim = dim\n",
        "        self.d = 0\n",
        "\n",
        "        if sigma is None:\n",
        "            sigma = max(m,n)/2.0    # Constant radius\n",
        "        else:\n",
        "            sigma = float(sigma)\n",
        "\n",
        "        self.learning_rate = learning_rate\n",
        "        self.learning_rate_0 = learning_rate\n",
        "        self.sigma = sigma\n",
        "        self.sigma_0 = sigma\n",
        "\n",
        "        print('Network created with dimensions',m,n)\n",
        "\n",
        "        # Weight Matrix and the topography of neurons\n",
        "        self._W = tf.random.normal([m*n, dim], seed = 0)\n",
        "\n",
        "        # Topography defines an array of (30x30) x 2 (900 x 2) where\n",
        "        # each row represents the coordinates on the map of that unit. For instance\n",
        "        # the unit 5 of the list is at coordinates [0,5], 200 at [6,20], and the last one is [30,30]\n",
        "        self._topography = np.array(list(self._neuron_location(m, n)))\n",
        "\n",
        "\n",
        "\n",
        "    def training(self, x, i):\n",
        "            m = self._m\n",
        "            n = self._n\n",
        "\n",
        "            # Finding the Winner and its location\n",
        "            # Obtain the distance for each unit of the grid with respect to the input\n",
        "            # tf.stack ([x for i in range (m * n)]) creates a matrix with the repeated input vector to be able to subtract it from each vector of weights\n",
        "            # Thus, if the input is [1x3] and the grid is 30x30 (900) the output is [900 x 3]\n",
        "            # The vector of weights is subtracted and the result is squared with tf.pow (..., 2)\n",
        "            # At this point we have a matrix [900 x 3] where each row is the difference of the input with each unit\n",
        "            # Thus, for each row, we must add the values ​​of the columns, since these are the values ​​of each variable\n",
        "            # We add that with tf.reduce_sum. With this, we have a vector [900 x 1]\n",
        "            # With tf.sqrt we take the square root, and in that final vector of [900 x 1] each row is the distance from that unit to the input\n",
        "            # Of all of them, we chose the best one for the BMU. tf.argmin gives us the id of that BMU\n",
        "            d = tf.sqrt(tf.reduce_sum(tf.pow(self._W - tf.stack([x for i in range(m*n)]),2),1))\n",
        "            self.BMU_idx = tf.argmin(d,0)\n",
        "            self.d = d\n",
        "\n",
        "            # We obtain, for that unit, its position on the map (topography), and express\n",
        "            # the position vector (numpy array)\n",
        "            self.BMU_loc = self._topography[self.BMU_idx]\n",
        "\n",
        "            # Updating the radius and the learning rate using the equations\n",
        "            # viewed in the course.\n",
        "            # Change learning rate and radius as a function of iterations\n",
        "            lambda_coeff = self._num_iterations/self.sigma_0\n",
        "            learning_rate = self.learning_rate_0*np.exp(-i/lambda_coeff)\n",
        "            sigma =  self.sigma_0*np.exp(-i/lambda_coeff)\n",
        "\n",
        "            # Calculating Neighbourhood function\n",
        "            # d_ij = tf.sqrt(tf.pow(self._W - tf.stack([x for i in range(m*n)]),2),1)\n",
        "            beta_ij = np.exp((-d**2)/(2*sigma**2))\n",
        "\n",
        "            # Choose Neighbours\n",
        "            neighbs = [self._check_point(p[0],\n",
        "                                         p[1],\n",
        "                                         self.BMU_loc[0],\n",
        "                                         self.BMU_loc[1], sigma)\n",
        "                       for p in self._topography]\n",
        "\n",
        "            # Update weights\n",
        "            # We update the weights. Here we define the increment to add to each previous weight.\n",
        "            # For units that are not within the BMU area, their update will be\n",
        "            # multiplied by 0 and their weights are not changed because of that.\n",
        "            weight_multiplier = tf.math.multiply(beta_ij, neighbs)\n",
        "            weight_multiplier = tf.math.multiply(learning_rate, weight_multiplier)\n",
        "\n",
        "            # After that, we obtain the difference between the input vector and each weight\n",
        "            # That difference is multiplied by the value obtained before.\n",
        "            # In order to multiply it, we have to have a tf.stack so that\n",
        "            # all the multiplier can multiply each weight of the connection between\n",
        "            # the node and the input. That multiplier affects the entire unit, and therefore\n",
        "            # affects all the connections equally\n",
        "            delta_W = tf.subtract(tf.stack([x for i in range(m * n)]),self._W)\n",
        "            weight_multiplier = tf.stack([weight_multiplier for i in range(n_dim)], axis=1)\n",
        "            update_value = tf.multiply(weight_multiplier, weight_multiplier)\n",
        "            update_value = tf.multiply(weight_multiplier, delta_W)\n",
        "\n",
        "            # Once the update value of the weights of each unit has been defined, the\n",
        "            # updates the weight matrix and saves it to the object.\n",
        "            new_W = self._W + update_value\n",
        "            self._W = new_W\n",
        "\n",
        "\n",
        "    # The fit function is used to iterate through each epoch, and in each of them\n",
        "    # loop through all records. The input matrix is ​previously set randomly\n",
        "    def fit(self, X):\n",
        "\n",
        "        np.random.shuffle(X)\n",
        "        X = tf.cast(X, tf.float32)\n",
        "\n",
        "        for i in range(self._num_iterations):\n",
        "            for x in X:\n",
        "                 self.training(x,i)\n",
        "\n",
        "        # Store a centroid grid for easy retrieval\n",
        "        # We save in a format [n, m, dimensions] the weights with respect to the input\n",
        "        # of each unit.\n",
        "        self._Wts = list(self._W)\n",
        "        self._locations = list(self._topography)\n",
        "        self._learned = True\n",
        "\n",
        "    # Check if a point is within the radius around another\n",
        "    def _check_point(self, x, y, center_x, center_y, radius):\n",
        "        check = (x - center_x)**2 + (y - center_y)**2 < radius**2\n",
        "        if check == True:\n",
        "            return 1\n",
        "        else:\n",
        "            return 0\n",
        "\n",
        "    # Obtain BMU\n",
        "    def winner(self, x):\n",
        "        if not self._learned:\n",
        "            raise ValueError(\"SOM not trained yet\")\n",
        "\n",
        "        return self.BMU_loc.numpy()\n",
        "\n",
        "    # Function to generate the positions in the grid for an array of units\n",
        "    def _neuron_location(self,m,n):\n",
        "        for i in range(m):\n",
        "            for j in range(n):\n",
        "                yield np.array([i,j])\n",
        "\n",
        "    # With this function we go through all the datapoints and for each one of them\n",
        "    # we get the associated BMU. To do this, we calculate the norm of the difference\n",
        "    # of that input vector with the weights of each unit: || v-w_ij ||. Of all\n",
        "    # those values, the BMU for that input vector is selected as the one that\n",
        "    # lower result.\n",
        "    def map_vects(self, X):\n",
        "        if not self._learned:\n",
        "            raise ValueError(\"SOM not trained yet\")\n",
        "\n",
        "        to_return = []\n",
        "        for vect in X:\n",
        "            min_index = min([i for i in range(len(self._Wts))],\n",
        "                            key=lambda x: np.linalg.norm(vect -\n",
        "                                                         self._Wts[x]))\n",
        "            to_return.append(self._locations[min_index])\n",
        "\n",
        "        return to_return\n",
        "\n",
        "    # Return the grid in which each unit has its distance associated.\n",
        "    # Thus, it is a matrix of (m, n) where each record is the final distance of that unit (i, j)\n",
        "    def distance_map(self):\n",
        "        if not self._learned:\n",
        "            raise ValueError(\"SOM not trained yet\")\n",
        "        mapping = tf.reshape(self.d, shape=(self._m, self._n)).numpy()\n",
        "\n",
        "        return mapping\n",
        "\n",
        "# =============================================================================\n",
        "# 1. Data Preparation\n",
        "# =============================================================================\n",
        "# Load data\n",
        "dataset = pd.read_csv('Credit_Card_Applications.csv')\n",
        "X = dataset.copy().drop(columns=['CustomerID', 'Class']).values\n",
        "y = dataset.iloc[:, -1].values # Variable that says if the customer's application was approved or not\n",
        "\n",
        "# Feature Scaling\n",
        "sc = MinMaxScaler(feature_range = (0, 1)) # So that all values ​​are between 0 and 1\n",
        "X = sc.fit_transform(X)\n",
        "\n",
        "# =============================================================================\n",
        "# 2. Model training\n",
        "# =============================================================================\n",
        "# Hyperparametros\n",
        "n_dim = np.shape(X)[1]\n",
        "grid_size = (10, 10)\n",
        "sigma = 10\n",
        "num_iterations = 50\n",
        "learning_rate = 0.5\n",
        "\n",
        "# Fit & Train\n",
        "som =  SOM(grid_size[0], grid_size[1], dim=n_dim,\n",
        "           num_iterations = num_iterations,\n",
        "           learning_rate = learning_rate,\n",
        "           sigma = sigma)\n",
        "som.fit(X)\n",
        "\n",
        "# Grid with the MID of each unit\n",
        "distance_matrix = som.distance_map().T\n",
        "\n",
        "\n",
        "\n",
        "\n",
        "\n"
      ]
    },
    {
      "cell_type": "markdown",
      "source": [
        "This function receives as input a record of the dataset (x), and the iteration in which it is from the\n",
        "total iterations defined (i). A series of steps have been defined in the function to explain those\n",
        "fragments in the following text. These steps do not correspond directly to the steps of the\n",
        "algorithm we saw in the theory. They are simply at the guidance level to explain the corresponding\n",
        "code snippets.\n",
        "First, for step 1, you get the distance for each grid unit from theinput. tf.stack([x for i in range(m*n)])\n",
        "creates an array with the repeated input vector so that it can be subtracted from each weight\n",
        "vector. So,if the input is [1x3] and the grid is 30x30 (900) the output is [900 x 3]\n",
        "The weight vector is then subtracted and the result is squared with tf.pow(...,2). We have at this\n",
        "point an array [900 x 3] where each row is the difference of the input with each unit. Thus, for\n",
        "each row, we have to sum the values of the columns, since these are the values of each variable.\n",
        "We add that up with tf.reduce_sum. With this, we have a vector [900 x 1] left for the same\n",
        "example. With tf.sqrt we take out the square root, and in that final vector of [900 x 1] each row\n",
        "is the distance from that unit to the input.\n",
        "Of all of them, we chose the best for the BMU. tf.argmin gives us the id of that BMU.\n",
        "For step 2, we get, for that unit, its position on the map (topography), and express the position\n",
        "vector (numpy array) as a dimension tensor (1,2).\n",
        "In step 3, the radio and learning rate update occurs using the equations seen in the the theory.\n",
        "Then, in step 4, we get the parameter 𝛽𝑖𝑗.\n",
        "Advanced deep learning – Unsupervised deep learning (II)\n",
        "© Structuralia 18\n",
        "Then, in step 5, the neighbors are chosen for the selected BMU. These neighbors are chosen by\n",
        "checking which grid units are within the sigma radius that has that BMU as its center. We check\n",
        "this by defining another method within the class. This method will receive as input the reference\n",
        "point (BMU), the point to be checked, the radius, and will return 1 or 0 depending on whether that\n",
        "unit is within the radius."
      ],
      "metadata": {
        "id": "Aqt8hy0xS4pj"
      }
    },
    {
      "cell_type": "markdown",
      "source": [
        "We use these results in step 6. Here, we update the weights. We define the increase to add to\n",
        "each previous weight. For units that are not within the radius of the BMU, their update is multiplied\n",
        "by 0 and their weights are not changed.\n",
        "After that, in step 7, we get the difference between the input vector and each weight. That\n",
        "difference is multiplied by the value obtained earlier. In order to multiply it, there must be a tf.stack\n",
        "so that the entire multiplier can multiply to each weight of the connection between the node and\n",
        "the input. That multiplier affects the entire unit, and therefore affects all of its connections equally.\n",
        "Finally, in step 8, we set the weight update value for each unit, update the weight matrix and save\n",
        "it to the object."
      ],
      "metadata": {
        "id": "rxwxrw0STFNp"
      }
    },
    {
      "cell_type": "markdown",
      "source": [
        "The training() method will be called from the fit() method, which will iterate based on the number\n",
        "of iterations defined. This method is as follows:"
      ],
      "metadata": {
        "id": "k5fDv5GNTPIq"
      }
    },
    {
      "cell_type": "markdown",
      "source": [
        "hus, the fit function is used to iterate through each iteration, and in each of them traverse all the\n",
        "records. The input array is pre-set. In addition, we give in a format [n,m,dimensions] the weights\n",
        "relative to the input of each unit.\n",
        "Along with this, we define the following methods.\n",
        "First, a method to get the BMU directly from the class"
      ],
      "metadata": {
        "id": "tLpWDA6MTR2B"
      }
    },
    {
      "cell_type": "markdown",
      "source": [
        "In addition, we define a method called map_vects. With it, we walk through all the datapoints and\n",
        "for each of them we get the associated BMU. To do this, we calculate the norm of the difference\n",
        "of that input vector with the weights of each unit: || v-w_ij||. Of all those values, the result vector\n",
        "is selected as BMU for that input vector."
      ],
      "metadata": {
        "id": "gEPVab8ZTUHk"
      }
    },
    {
      "cell_type": "markdown",
      "source": [
        "Finally, we define a function to calculate the Mean Interneuron Distance (MID) value. The MID is\n",
        "a value that is obtained for each unit of the grid, calculating the mean value of that unit's weight\n",
        "vector relative to the weight vector of each of the neighboring units (units that are within the final\n",
        "radius value). This MID value allows us to see units that are very different from the surrounding\n",
        "ones. In this way, each unit of the grid has a MID, and this can be displayed as a clear map, as\n",
        "shown in the following image."
      ],
      "metadata": {
        "id": "dt5knvb1TW5f"
      }
    },
    {
      "cell_type": "markdown",
      "source": [
        "If a unit has a high MID, it means that the weights of that unit are significantly different from those\n",
        "of its neighboring units. This is used to detect abnormal data in the training dataset. Records that\n",
        "have as an associated BMU one that has an elevated MID are indicative of being abnormal.\n",
        "With distance_map() we get thegrid, where each unit has its associated MID."
      ],
      "metadata": {
        "id": "QCOv3WS8TojU"
      }
    },
    {
      "cell_type": "markdown",
      "source": [
        "As we can see, some units have a much higher MID than those around them, also having a\n",
        "particularly high value considering the other values of the grid. For example, the unit [0, 2] has a\n",
        "very high value, potentially being a unit associated with abnormal values. With the following code\n",
        "fragment we get the coordinates of those units, defining a threshold value from which we take the\n",
        "units as candidates."
      ],
      "metadata": {
        "id": "3M_13uSoXSTs"
      }
    },
    {
      "cell_type": "markdown",
      "source": [
        "Finally, we traverse the input dataset, get the BMU associated with each record (client), and\n",
        "indicate the cases where the coordinates of the BMU match those potential units associated with\n",
        "the anomalies we have obtained earlier."
      ],
      "metadata": {
        "id": "C6KzaS6hXV5K"
      }
    },
    {
      "cell_type": "code",
      "source": [
        "# =============================================================================\n",
        "# 4. Anomaly detection\n",
        "# =============================================================================\n",
        "df_users = pd.DataFrame()\n",
        "for i, x in enumerate(X):  # i are the values ​​of the indices, and x are the different vectors of customers in each iteration, and we loop the X dataset with enumerate (X)\n",
        "    w = mappings[i] # BMU for that record\n",
        "    # If the BMU matches the units of the outliers, we identify it as fraudulent\n",
        "    is_fraud = False\n",
        "    # Fraud if the variable has one of the BMU from the fraudulent list\n",
        "    if [w[0], w[1]] in list_idx:\n",
        "        is_fraud = True\n",
        "    # Store results\n",
        "    df_users = df_users.append(pd.DataFrame({'user':[dataset.iloc[i]['CustomerID']],\n",
        "                                             'mapping':[w],\n",
        "                                             'is_fraud':[is_fraud],\n",
        "                                             'credit_approval':[dataset.iloc[i]['Class']]}))"
      ],
      "metadata": {
        "id": "rHdKUmRWY-8P"
      },
      "execution_count": null,
      "outputs": []
    },
    {
      "cell_type": "code",
      "source": [
        "# =============================================================================\n",
        "# 3. Data visualization\n",
        "# =============================================================================\n",
        "from pylab import bone, pcolor, colorbar\n",
        "bone() # # Initialize the display window\n",
        "pcolor(distance_matrix) # To display the som. The .T to put the transposed matrix. What is displayed is the MID of the nodes\n",
        "colorbar() # To have the color legend. We will see that the MIDs go from 0 to 1, because they are scaled\n",
        "\n",
        "max_value = np.amax(distance_matrix)\n",
        "min_value = np.amin(distance_matrix)\n",
        "\n",
        "list_mid = list(np.reshape(distance_matrix, (grid_size[0]*grid_size[1],)))\n",
        "list_mid.sort()\n",
        "list_mid = [j for j in list_mid if j > 1.48]\n",
        "list_idx = [np.where(distance_matrix==j) for j in list_mid]\n",
        "list_idx = [[idx_max[0][0], idx_max[1][0]] for idx_max in list_idx]\n",
        "\n",
        "mappings = som.map_vects(X)"
      ],
      "metadata": {
        "colab": {
          "base_uri": "https://localhost:8080/",
          "height": 435
        },
        "id": "6F8EdUe7ZgBj",
        "outputId": "ad7b8688-e997-4d1a-f3e0-8e15cde1deb4"
      },
      "execution_count": 4,
      "outputs": [
        {
          "output_type": "display_data",
          "data": {
            "text/plain": [
              "<Figure size 640x480 with 2 Axes>"
            ],
            "image/png": "[encoded data removed]"
          },
          "metadata": {}
        }
      ]
    }
  ]
}