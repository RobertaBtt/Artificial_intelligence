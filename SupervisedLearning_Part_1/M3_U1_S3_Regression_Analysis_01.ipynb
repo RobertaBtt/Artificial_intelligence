{
  "nbformat": 4,
  "nbformat_minor": 0,
  "metadata": {
    "colab": {
      "provenance": []
    },
    "kernelspec": {
      "name": "python3",
      "display_name": "Python 3"
    },
    "language_info": {
      "name": "python"
    }
  },
  "cells": [
    {
      "cell_type": "code",
      "execution_count": 2,
      "metadata": {
        "id": "yQdXsdUJwajH"
      },
      "outputs": [],
      "source": [
        "import numpy as np\n",
        "import matplotlib.pyplot as plt\n",
        "import pandas as pd"
      ]
    },
    {
      "cell_type": "code",
      "source": [
        "# Load dataset\n",
        "df = pd.read_csv('Salary_Data.csv')"
      ],
      "metadata": {
        "id": "OsxOhnCOx351"
      },
      "execution_count": 4,
      "outputs": []
    },
    {
      "cell_type": "code",
      "source": [
        "# Visualize data\n",
        "df.plot.scatter(x='YearsExperience', y='Salary', title=\"Salary Evolution according to Years of Experience\") # Linear relationship can be seen\n"
      ],
      "metadata": {
        "id": "Y5QHish2x7v_"
      },
      "execution_count": null,
      "outputs": []
    },
    {
      "cell_type": "code",
      "source": [
        "# Input/output split\n",
        "X = df.iloc[:, :-1].values\n",
        "y = df.iloc[:, 1].values\n",
        "\n",
        "# Train/Test Split\n",
        "from sklearn.model_selection import train_test_split\n",
        "X_train, X_test, y_train, y_test = train_test_split(X, y, test_size = 1/3, random_state = 0)\n",
        "\n"
      ],
      "metadata": {
        "id": "VsSR9wsQ1n3x"
      },
      "execution_count": 6,
      "outputs": []
    },
    {
      "cell_type": "code",
      "source": [
        "# =============================================================================\n",
        "# Model analysis\n",
        "# =============================================================================\n",
        "#### P-Values\n",
        "# View p-values\n",
        "\n",
        "import statsmodels.api as sm\n",
        "#X_train = sm.add_constant(X_train) # b0\n",
        "#X_test = sm.add_constant(X_test) # b0\n",
        "model = sm.OLS(y_train, X_train).fit()\n",
        "model.summary()"
      ],
      "metadata": {
        "id": "XcUvnGwr4Fu9"
      },
      "execution_count": null,
      "outputs": []
    },
    {
      "cell_type": "code",
      "source": [
        "#### Linearity\n",
        "# Check linearity\n",
        "import statsmodels.stats.api as sms\n",
        "sms.linear_harvey_collier(model)\n",
        "# p-value = 0.272 > 0.05 -> Does not reject H0=there is linearity"
      ],
      "metadata": {
        "colab": {
          "base_uri": "https://localhost:8080/"
        },
        "id": "tmUTB9DN4SJX",
        "outputId": "519945f3-1d43-4c0d-8409-2cb7d4c5ca1b"
      },
      "execution_count": 13,
      "outputs": [
        {
          "output_type": "execute_result",
          "data": {
            "text/plain": [
              "TtestResult(statistic=1.137603959747104, pvalue=0.272035496366901, df=16)"
            ]
          },
          "metadata": {},
          "execution_count": 13
        }
      ]
    },
    {
      "cell_type": "code",
      "source": [
        "#### Normality residuals\n",
        "#Get residuals\n",
        "from statsmodels.compat import lzip\n",
        "residuals = model.resid\n",
        "\n",
        "# Histograms\n",
        "plt.hist(residuals, range=(-45000, 45000))\n"
      ],
      "metadata": {
        "id": "BaDS5WGU4gYN"
      },
      "execution_count": null,
      "outputs": []
    },
    {
      "cell_type": "code",
      "source": [
        "# Q-Q Plot\n",
        "import scipy as sp\n",
        "fig, ax = plt.subplots(figsize=(6,2.5))\n",
        "_, (__, ___, r) = sp.stats.probplot(residuals, plot=ax, fit=True)\n",
        "print(r**2)\n",
        "# r^2 = 0.957\n",
        "# Normality is seen"
      ],
      "metadata": {
        "id": "K7BTQxOO4mKT"
      },
      "execution_count": null,
      "outputs": []
    },
    {
      "cell_type": "code",
      "source": [
        "# D'Agostino Test\n",
        "from scipy.stats import normaltest\n",
        "normaltest(residuals)\n",
        "# p-value = 0.667 >> 0.05 -> Does not reject H0=normal data"
      ],
      "metadata": {
        "id": "PQ3Z7v6l4zWG"
      },
      "execution_count": null,
      "outputs": []
    },
    {
      "cell_type": "code",
      "source": [
        "\n",
        "# Jarque-Bera Test\n",
        "name = ['Jarque-Bera', 'Chi^2 two-tail prob.', 'Skew', 'Kurtosis']\n",
        "test = sms.jarque_bera(residuals)\n",
        "lzip(name, test)"
      ],
      "metadata": {
        "colab": {
          "base_uri": "https://localhost:8080/"
        },
        "id": "Ibj7sCyvg2yg",
        "outputId": "0ad53fe1-b664-40b1-a8f7-1867ae508f60"
      },
      "execution_count": 14,
      "outputs": [
        {
          "output_type": "execute_result",
          "data": {
            "text/plain": [
              "[('Jarque-Bera', 0.453836979054116),\n",
              " ('Chi^2 two-tail prob.', 0.7969857423274271),\n",
              " ('Skew', -0.36057647515347674),\n",
              " ('Kurtosis', 2.8433385908128113)]"
            ]
          },
          "metadata": {},
          "execution_count": 14
        }
      ]
    },
    {
      "cell_type": "code",
      "source": [
        "# Omni Test\n",
        "name = ['Chi^2', 'Two-tail probability']\n",
        "test = sms.omni_normtest(residuals)\n",
        "lzip(name, test)\n"
      ],
      "metadata": {
        "colab": {
          "base_uri": "https://localhost:8080/"
        },
        "id": "QceGuPXA43Jo",
        "outputId": "2b467e94-f360-48f7-a655-3c6bb0015386"
      },
      "execution_count": 15,
      "outputs": [
        {
          "output_type": "execute_result",
          "data": {
            "text/plain": [
              "[('Chi^2', 0.8087058796668815), ('Two-tail probability', 0.6674085246421335)]"
            ]
          },
          "metadata": {},
          "execution_count": 15
        }
      ]
    },
    {
      "cell_type": "code",
      "source": [
        "### Check Homocedasticity\n",
        "fig, ax = plt.subplots(figsize=(6,2.5))\n",
        "_ = ax.scatter(X_train, residuals)\n"
      ],
      "metadata": {
        "id": "dBXovJ4C5AEP"
      },
      "execution_count": null,
      "outputs": []
    },
    {
      "cell_type": "code",
      "source": [
        "# Goldfeld-Quandt test\n",
        "name = ['F statistic', 'p-value']\n",
        "test = sms.het_goldfeldquandt(model.resid, model.model.exog)\n",
        "lzip(name, test)\n",
        "# model.model.exog -> Input parameters\n",
        "# model.model.endog -> Output parameters\n",
        "# p-value=0.78 >> 0.05 -> Cannot reject H0=there is homocedasticity"
      ],
      "metadata": {
        "id": "9t_z09aY5EiC",
        "colab": {
          "base_uri": "https://localhost:8080/"
        },
        "outputId": "2f1609ad-204a-44bc-8670-ef6e0d726cc3"
      },
      "execution_count": 17,
      "outputs": [
        {
          "output_type": "execute_result",
          "data": {
            "text/plain": [
              "[('F statistic', 0.5867790225429672), ('p-value', 0.7803560112163154)]"
            ]
          },
          "metadata": {},
          "execution_count": 17
        }
      ]
    },
    {
      "cell_type": "code",
      "source": [
        "### Autocorrelation residuals\n",
        "from statsmodels.stats.stattools import durbin_watson\n",
        "print(durbin_watson(residuals))\n",
        "# Value close to 2 -> No correlation\n",
        "# The value is bounded between 0 (max. Positive correlation) and 4 (max. Negative correlation)\n"
      ],
      "metadata": {
        "colab": {
          "base_uri": "https://localhost:8080/"
        },
        "id": "us8xLcOQhKXq",
        "outputId": "3817e663-1aa9-4109-9ae5-5fa3ffe2353d"
      },
      "execution_count": 18,
      "outputs": [
        {
          "output_type": "stream",
          "name": "stdout",
          "text": [
            "2.455674965484638\n"
          ]
        }
      ]
    },
    {
      "cell_type": "code",
      "source": [
        "### Checking the influence of possible outliers\n",
        "from statsmodels.stats.outliers_influence import OLSInfluence\n",
        "test_class = OLSInfluence(model)\n",
        "test_class.dfbetas[:5,:]\n",
        "# DFBetas gives the difference in each estimated parameter with and without the influence points. There is a DFBEta for each\n",
        "# datapoint; thus, with n observations and k variables there are n * k DFBEtas\n",
        "# You can use 2 or 2 / sqrt (n) as a threshold to see that DFBetas are significant and therefore have a lot of influence\n",
        "\n",
        "from statsmodels.graphics.regressionplots import plot_leverage_resid2, influence_plot\n",
        "fig, ax = plt.subplots(figsize=(8,6))\n",
        "fig = plot_leverage_resid2(model, ax = ax)\n",
        "influence_plot(model)\n",
        "# Be careful with observations that have a high leverage and high residuals\n",
        "# since they are the ones that they will be influencing the model\n",
        "# In the influence diagram nothing can be seen in the upper right quadrant,\n",
        "# but in the residuals\n",
        "# squared it is observed how observation 7 (x = 10.5) significantly\n",
        "# influences the generality of the model\n",
        "# As it is an example problem, it will be left, although you should be careful with it"
      ],
      "metadata": {
        "id": "VkvRf0WZhg8x"
      },
      "execution_count": null,
      "outputs": []
    },
    {
      "cell_type": "code",
      "source": [
        "# Model parameters\n",
        "p =  model.params\n",
        "print(p)\n",
        "# Metrics\n",
        "model.aic\n"
      ],
      "metadata": {
        "colab": {
          "base_uri": "https://localhost:8080/"
        },
        "id": "i_FmE6zehytR",
        "outputId": "06d67c69-1c41-4153-f3e2-ee633e140b40"
      },
      "execution_count": 22,
      "outputs": [
        {
          "output_type": "stream",
          "name": "stdout",
          "text": [
            "[13753.64961601]\n"
          ]
        }
      ]
    },
    {
      "cell_type": "code",
      "source": [
        "# =============================================================================\n",
        "# Model predictions\n",
        "# =============================================================================\n",
        "# predictions\n",
        "y_pred = model.predict(X_test)\n",
        "\n",
        "# Metrics\n",
        "from sklearn.metrics import mean_squared_error, r2_score\n",
        "r2 = r2_score(y_test, y_pred)\n",
        "mae = mean_squared_error(y_test, y_pred)\n",
        "print(\"r2: \", r2, \"mae: \", mae)\n",
        "# R2 highlights the explicability of the model. The closer to 1 the model gets\n",
        "# better explain / express the data. Value between 0 and 1.\n",
        "# 0.8111 is good result -> 81.1% explained"
      ],
      "metadata": {
        "colab": {
          "base_uri": "https://localhost:8080/"
        },
        "id": "Jfihcj6AiI-c",
        "outputId": "f164819c-1ed3-4f15-9c1f-63ac62bada8e"
      },
      "execution_count": 23,
      "outputs": [
        {
          "output_type": "stream",
          "name": "stdout",
          "text": [
            "r2:  0.8111465166115929 mae:  158298192.73508132\n"
          ]
        }
      ]
    },
    {
      "cell_type": "code",
      "source": [
        "# Visualizing the Training results\n",
        "plt.scatter(X_train, y_train, color = 'red')\n",
        "# Paint in red the actual train values ​​as points\n",
        "plt.plot(X_train, model.predict(X_train), color = 'blue')"
      ],
      "metadata": {
        "id": "y-NcFyDiiPu-"
      },
      "execution_count": null,
      "outputs": []
    },
    {
      "cell_type": "code",
      "source": [
        "# Paint in blue and online the prediction on the values ​\n",
        "#​of my train since I apply the regression on those same train values,\n",
        "#my model trained on those valuesplt.title('Salary vs Experience (Training Set)')\n",
        "plt.xlabel('Years of Experience')\n",
        "plt.ylabel('Salary')\n",
        "plt.scatter(X_test, y_test, color = 'red')\n"
      ],
      "metadata": {
        "id": "Gz3IaAv-iZc3"
      },
      "execution_count": null,
      "outputs": []
    },
    {
      "cell_type": "code",
      "source": [
        "# Now paint the test points on the same model that I have built to validate it\n",
        "plt.plot(X_train, model.predict(X_train), color = 'blue')\n",
        "# Paint in blue and in line form the prediction on my train values ​\n",
        "# ​since I apply the regression on those same train values, my model trained on those values\n",
        "plt.title('Salary vs Experience (Test Set)')\n",
        "plt.xlabel('Years of Experience')\n",
        "plt.ylabel('Salary')\n",
        "plt.show()\n"
      ],
      "metadata": {
        "id": "UMYKaSrDinVz"
      },
      "execution_count": null,
      "outputs": []
    },
    {
      "cell_type": "code",
      "source": [
        "# =============================================================================\n",
        "# Improvements in the model\n",
        "# =============================================================================\n",
        "### Adding b0\n",
        "import statsmodels.api as sm\n",
        "X_train = sm.add_constant(X_train) # b0\n",
        "X_test = sm.add_constant(X_test) # b0\n",
        "model = sm.OLS(y_train, X_train).fit()\n",
        "model.summary()"
      ],
      "metadata": {
        "id": "T_raxH1biwEU"
      },
      "execution_count": null,
      "outputs": []
    },
    {
      "cell_type": "code",
      "source": [
        "# Output predictions\n",
        "y_pred = model.predict(X_test)"
      ],
      "metadata": {
        "id": "GIBTI728i16V"
      },
      "execution_count": 32,
      "outputs": []
    },
    {
      "cell_type": "code",
      "source": [
        "\n",
        "# Visualizing the Training results\n",
        "plt.scatter(X_train[:,1], y_train, color = 'red')\n",
        "# Paint in red the actual train values ​​as points\n",
        "plt.plot(X_train[:,1], model.predict(X_train), color = 'blue')\n",
        "# Paint in blue and in line form the prediction on my train values ​​since I apply the regression on those same train values, my model trained on those values\n",
        "plt.title('Salary vs Experience (Training Set)')\n",
        "plt.xlabel('Years of Experience')\n",
        "plt.ylabel('Salary')\n",
        "plt.show()\n",
        "\n",
        "plt.scatter(X_test[:,1], y_test, color = 'red')\n",
        "# Now paint the test points on the same model that I have built to validate it\n",
        "plt.plot(X_train[:,1], model.predict(X_train), color = 'blue')\n",
        "# Paint in blue and in line form the prediction on my train values ​​since I apply the regression on those same train values, my model trained on those valuesplt.title('Salary vs Experience (Test Set)')\n",
        "plt.xlabel('Years of Experience')\n",
        "plt.ylabel('Salary')\n",
        "plt.show()"
      ],
      "metadata": {
        "id": "Pv4fskAfxw4h",
        "colab": {
          "base_uri": "https://localhost:8080/",
          "height": 904
        },
        "outputId": "5f86f1b3-337f-4623-8606-b940af4a8e57"
      },
      "execution_count": 40,
      "outputs": [
        {
          "output_type": "display_data",
          "data": {
            "text/plain": [
              "<Figure size 640x480 with 1 Axes>"
            ],
            "image/png": "[encoded data removed]"
          },
          "metadata": {}
        },
        {
          "output_type": "display_data",
          "data": {
            "text/plain": [
              "<Figure size 640x480 with 1 Axes>"
            ],
            "image/png": "[encoded data removed]"
          },
          "metadata": {}
        }
      ]
    }
  ]
}